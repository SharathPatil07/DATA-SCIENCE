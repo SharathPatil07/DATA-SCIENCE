{
  "nbformat": 4,
  "nbformat_minor": 0,
  "metadata": {
    "colab": {
      "provenance": []
    },
    "kernelspec": {
      "name": "python3",
      "display_name": "Python 3"
    },
    "language_info": {
      "name": "python"
    }
  },
  "cells": [
    {
      "cell_type": "markdown",
      "source": [
        "1."
      ],
      "metadata": {
        "id": "79mTIxRiBQhB"
      }
    },
    {
      "cell_type": "code",
      "source": [
        "# List of tuples\n",
        "players = [('Sachin Tendulkar', 34357), ('Ricky Ponting', 27483),\n",
        "           ('Jack Kallis', 25534), ('Virat Kohli', 24936)]\n",
        "\n",
        "# Sorting the list based on the integer value (second element) of each tuple\n",
        "sorted_players = sorted(players, key=lambda x: x[1])\n",
        "\n",
        "# Display the sorted list\n",
        "print(\"Sorted list:\", sorted_players)\n"
      ],
      "metadata": {
        "colab": {
          "base_uri": "https://localhost:8080/"
        },
        "id": "VrGovfuNBSJF",
        "outputId": "8ee51100-9a78-41b1-d187-1ce3a4b9ce61"
      },
      "execution_count": 2,
      "outputs": [
        {
          "output_type": "stream",
          "name": "stdout",
          "text": [
            "Sorted list: [('Virat Kohli', 24936), ('Jack Kallis', 25534), ('Ricky Ponting', 27483), ('Sachin Tendulkar', 34357)]\n"
          ]
        }
      ]
    },
    {
      "cell_type": "markdown",
      "source": [
        "2."
      ],
      "metadata": {
        "id": "HBxiPu0-Bjox"
      }
    },
    {
      "cell_type": "code",
      "source": [
        "# List of integers\n",
        "numbers = [1, 2, 3, 4, 5, 6, 7, 8, 9, 10]\n",
        "\n",
        "# Using lambda and map to find squares of all numbers\n",
        "squares = list(map(lambda x: x ** 2, numbers))\n",
        "\n",
        "# Display the result\n",
        "print(\"Squares of the numbers:\", squares)\n"
      ],
      "metadata": {
        "colab": {
          "base_uri": "https://localhost:8080/"
        },
        "id": "WIjUdasyBf_z",
        "outputId": "87e25cad-0c5d-4f67-bc46-210c28351a38"
      },
      "execution_count": 3,
      "outputs": [
        {
          "output_type": "stream",
          "name": "stdout",
          "text": [
            "Squares of the numbers: [1, 4, 9, 16, 25, 36, 49, 64, 81, 100]\n"
          ]
        }
      ]
    },
    {
      "cell_type": "markdown",
      "source": [
        "3."
      ],
      "metadata": {
        "id": "4ELOx7LjBwMo"
      }
    },
    {
      "cell_type": "code",
      "source": [
        "# Given list of integers\n",
        "numbers = [1, 2, 3, 4, 5, 6, 7, 8, 9, 10]\n",
        "\n",
        "# Using map and lambda to convert integers to strings\n",
        "string_tuple = tuple(map(lambda x: str(x), numbers))\n",
        "\n",
        "# Display the result\n",
        "print(\"Expected output:\", string_tuple)\n"
      ],
      "metadata": {
        "colab": {
          "base_uri": "https://localhost:8080/"
        },
        "id": "puDQAYkDBvP_",
        "outputId": "79ca8dbb-cc70-474a-be91-42c9fabe026f"
      },
      "execution_count": 5,
      "outputs": [
        {
          "output_type": "stream",
          "name": "stdout",
          "text": [
            "Expected output: ('1', '2', '3', '4', '5', '6', '7', '8', '9', '10')\n"
          ]
        }
      ]
    },
    {
      "cell_type": "markdown",
      "source": [
        "4."
      ],
      "metadata": {
        "id": "L5TL95ETCCcR"
      }
    },
    {
      "cell_type": "code",
      "source": [
        "from functools import reduce\n",
        "\n",
        "# List of numbers from 1 to 25\n",
        "numbers = list(range(1, 26))\n",
        "\n",
        "# Using reduce to compute the product of the list\n",
        "product = reduce(lambda x, y: x * y, numbers)\n",
        "\n",
        "# Display the result\n",
        "print(\"Product of numbers from 1 to 25:\", product)\n"
      ],
      "metadata": {
        "colab": {
          "base_uri": "https://localhost:8080/"
        },
        "id": "DWCwbhjwB73u",
        "outputId": "466cb71b-48e1-41ca-904a-70b5d2427d19"
      },
      "execution_count": 6,
      "outputs": [
        {
          "output_type": "stream",
          "name": "stdout",
          "text": [
            "Product of numbers from 1 to 25: 15511210043330985984000000\n"
          ]
        }
      ]
    },
    {
      "cell_type": "markdown",
      "source": [
        "5."
      ],
      "metadata": {
        "id": "SU0gJ488CHts"
      }
    },
    {
      "cell_type": "code",
      "source": [
        "# Given list of numbers\n",
        "numbers = [2, 3, 6, 9, 27, 60, 90, 120, 55, 46]\n",
        "\n",
        "# Using filter to find numbers divisible by both 2 and 3\n",
        "divisible_by_2_and_3 = list(filter(lambda x: x % 2 == 0 and x % 3 == 0, numbers))\n",
        "\n",
        "# Display the result\n",
        "print(\"Numbers divisible by 2 and 3:\", divisible_by_2_and_3)\n"
      ],
      "metadata": {
        "colab": {
          "base_uri": "https://localhost:8080/"
        },
        "id": "ulNF2iDRCDVP",
        "outputId": "6659c8b5-d709-464e-aa75-6d5d524799b2"
      },
      "execution_count": 7,
      "outputs": [
        {
          "output_type": "stream",
          "name": "stdout",
          "text": [
            "Numbers divisible by 2 and 3: [6, 60, 90, 120]\n"
          ]
        }
      ]
    },
    {
      "cell_type": "markdown",
      "source": [
        "6."
      ],
      "metadata": {
        "id": "91d1iTY7CULI"
      }
    },
    {
      "cell_type": "code",
      "source": [
        "# Given list of strings\n",
        "strings = ['python', 'php', 'aba', 'radar', 'level']\n",
        "\n",
        "# Using filter and lambda to find palindromes\n",
        "palindromes = list(filter(lambda x: x == x[::-1], strings))\n",
        "\n",
        "# Display the result\n",
        "print(\"Palindromes in the list:\", palindromes)\n"
      ],
      "metadata": {
        "colab": {
          "base_uri": "https://localhost:8080/"
        },
        "id": "f0HSs0F2CNT1",
        "outputId": "920c371d-7614-47da-c3bb-3cb9a09b4b39"
      },
      "execution_count": 8,
      "outputs": [
        {
          "output_type": "stream",
          "name": "stdout",
          "text": [
            "Palindromes in the list: ['php', 'aba', 'radar', 'level']\n"
          ]
        }
      ]
    },
    {
      "cell_type": "code",
      "source": [],
      "metadata": {
        "id": "p339TagyCVU5"
      },
      "execution_count": null,
      "outputs": []
    }
  ]
}