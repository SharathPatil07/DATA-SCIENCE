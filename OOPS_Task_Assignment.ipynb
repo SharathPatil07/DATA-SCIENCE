{
  "nbformat": 4,
  "nbformat_minor": 0,
  "metadata": {
    "colab": {
      "provenance": []
    },
    "kernelspec": {
      "name": "python3",
      "display_name": "Python 3"
    },
    "language_info": {
      "name": "python"
    }
  },
  "cells": [
    {
      "cell_type": "code",
      "execution_count": 1,
      "metadata": {
        "id": "TLljjPfe-5r0"
      },
      "outputs": [],
      "source": [
        "class Vehicle:\n",
        "    def __init__(self, name_of_vehicle, max_speed, average_of_vehicle):\n",
        "        self.name_of_vehicle = name_of_vehicle\n",
        "        self.max_speed = max_speed\n",
        "        self.average_of_vehicle = average_of_vehicle\n"
      ]
    },
    {
      "cell_type": "code",
      "source": [
        "class Car(Vehicle):\n",
        "    def __init__(self, name_of_vehicle, max_speed, average_of_vehicle):\n",
        "        super().__init__(name_of_vehicle, max_speed, average_of_vehicle)\n",
        "\n",
        "    def seating_capacity(self, capacity):\n",
        "        return f\"{self.name_of_vehicle} has a seating capacity of {capacity} persons.\"\n"
      ],
      "metadata": {
        "id": "zJZ-b63r-7wF"
      },
      "execution_count": 2,
      "outputs": []
    },
    {
      "cell_type": "code",
      "source": [
        "# Creating an instance of the Car class\n",
        "my_car = Car(\"Honda Civic\", 220, 18)\n",
        "\n",
        "# Accessing the seating_capacity method\n",
        "print(my_car.seating_capacity(5))\n"
      ],
      "metadata": {
        "colab": {
          "base_uri": "https://localhost:8080/"
        },
        "id": "KwISHsL6_EH1",
        "outputId": "62c4f77e-435b-4534-c45e-9975b18eb43b"
      },
      "execution_count": 3,
      "outputs": [
        {
          "output_type": "stream",
          "name": "stdout",
          "text": [
            "Honda Civic has a seating capacity of 5 persons.\n"
          ]
        }
      ]
    },
    {
      "cell_type": "markdown",
      "source": [
        "In Python, multiple inheritance allows a class to inherit attributes and methods from more than one parent class. This enables the creation of complex relationships and the reuse of code across different classes."
      ],
      "metadata": {
        "id": "OX3PmdUa_RBd"
      }
    },
    {
      "cell_type": "code",
      "source": [
        "# Parent class 1\n",
        "class Mammal:\n",
        "    def mammal_info(self):\n",
        "        print(\"Mammals can give direct birth.\")\n",
        "\n",
        "# Parent class 2\n",
        "class WingedAnimal:\n",
        "    def winged_animal_info(self):\n",
        "        print(\"Winged animals can flap.\")\n",
        "\n",
        "# Child class\n",
        "class Bat(Mammal, WingedAnimal):\n",
        "    pass\n",
        "\n",
        "# Creating an object of the Bat class\n",
        "bat = Bat()\n",
        "bat.mammal_info()          # Output: Mammals can give direct birth.\n",
        "bat.winged_animal_info()   # Output: Winged animals can flap.\n"
      ],
      "metadata": {
        "colab": {
          "base_uri": "https://localhost:8080/"
        },
        "id": "V9ag6xKh_MeC",
        "outputId": "e3382362-fcbe-4bb7-b73a-6c55c88e368f"
      },
      "execution_count": 4,
      "outputs": [
        {
          "output_type": "stream",
          "name": "stdout",
          "text": [
            "Mammals can give direct birth.\n",
            "Winged animals can flap.\n"
          ]
        }
      ]
    },
    {
      "cell_type": "markdown",
      "source": [
        "In Python, getters and setters are methods that allow you to access and modify the attributes of a class, providing a way to implement encapsulation and data validation. While direct access to attributes is common in Python, using getters and setters can be beneficial when you need to add logic during attribute access or assignment."
      ],
      "metadata": {
        "id": "IhJTSljo_jXW"
      }
    },
    {
      "cell_type": "code",
      "source": [
        "class Person:\n",
        "    def __init__(self, name, age):\n",
        "        self._name = name  # Note the leading underscore (convention for \"protected\" attributes)\n",
        "        self._age = age\n",
        "\n",
        "    # Getter for 'name'\n",
        "    @property\n",
        "    def name(self):\n",
        "        return self._name\n",
        "\n",
        "    # Setter for 'name'\n",
        "    @name.setter\n",
        "    def name(self, value):\n",
        "        if not isinstance(value, str):\n",
        "            raise ValueError(\"Name must be a string.\")\n",
        "        self._name = value\n",
        "\n",
        "    # Getter for 'age'\n",
        "    @property\n",
        "    def age(self):\n",
        "        return self._age\n",
        "\n",
        "    # Setter for 'age'\n",
        "    @age.setter\n",
        "    def age(self, value):\n",
        "        if not isinstance(value, int) or not (0 <= value <= 120):\n",
        "            raise ValueError(\"Age must be an integer between 0 and 120.\")\n",
        "        self._age = value\n"
      ],
      "metadata": {
        "id": "Ro15zj_v_TXY"
      },
      "execution_count": 5,
      "outputs": []
    },
    {
      "cell_type": "code",
      "source": [],
      "metadata": {
        "id": "aM-RDgm-_ppA"
      },
      "execution_count": null,
      "outputs": []
    }
  ]
}