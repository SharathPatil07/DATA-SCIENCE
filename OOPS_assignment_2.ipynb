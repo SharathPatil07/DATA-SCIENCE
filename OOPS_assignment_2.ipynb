{
  "nbformat": 4,
  "nbformat_minor": 0,
  "metadata": {
    "colab": {
      "provenance": []
    },
    "kernelspec": {
      "name": "python3",
      "display_name": "Python 3"
    },
    "language_info": {
      "name": "python"
    }
  },
  "cells": [
    {
      "cell_type": "markdown",
      "source": [
        "Abstraction in Object-Oriented Programming (OOP) is the concept of hiding the complex implementation details of a system and exposing only the essential features to the user. This simplifies interaction with the system by focusing on high-level functionalities. In Python, abstraction can be achieved using abstract classes and methods."
      ],
      "metadata": {
        "id": "hDLmYkYWERnF"
      }
    },
    {
      "cell_type": "code",
      "execution_count": 1,
      "metadata": {
        "colab": {
          "base_uri": "https://localhost:8080/"
        },
        "id": "8w5_HShvEPi8",
        "outputId": "1d1906c7-61bf-4a1c-fc02-4980a68ae572"
      },
      "outputs": [
        {
          "output_type": "stream",
          "name": "stdout",
          "text": [
            "Car engine started\n",
            "Car engine stopped\n"
          ]
        }
      ],
      "source": [
        "from abc import ABC, abstractmethod\n",
        "\n",
        "class Vehicle(ABC):\n",
        "    @abstractmethod\n",
        "    def start_engine(self):\n",
        "        pass\n",
        "\n",
        "    @abstractmethod\n",
        "    def stop_engine(self):\n",
        "        pass\n",
        "\n",
        "class Car(Vehicle):\n",
        "    def start_engine(self):\n",
        "        print(\"Car engine started\")\n",
        "\n",
        "    def stop_engine(self):\n",
        "        print(\"Car engine stopped\")\n",
        "\n",
        "# Usage\n",
        "car = Car()\n",
        "car.start_engine()  # Output: Car engine started\n",
        "car.stop_engine()   # Output: Car engine stopped\n"
      ]
    },
    {
      "cell_type": "markdown",
      "source": [
        "Abstraction: Focuses on hiding the complex implementation details and exposing only the essential features of an object. It simplifies interaction by providing a clear interface.\n",
        "\n",
        "Encapsulation: Involves bundling the data (attributes) and methods (functions) that operate on the data into a single unit or class. It restricts direct access to some components, enhancing data security and integrity."
      ],
      "metadata": {
        "id": "hZ6CjAx2EWik"
      }
    },
    {
      "cell_type": "code",
      "source": [
        "class BankAccount:\n",
        "    def __init__(self, owner, balance=0):\n",
        "        self.owner = owner\n",
        "        self.__balance = balance  # Encapsulated attribute\n",
        "\n",
        "    def deposit(self, amount):\n",
        "        if amount > 0:\n",
        "            self.__balance += amount\n",
        "        else:\n",
        "            print(\"Deposit amount must be positive\")\n",
        "\n",
        "    def withdraw(self, amount):\n",
        "        if 0 < amount <= self.__balance:\n",
        "            self.__balance -= amount\n",
        "        else:\n",
        "            print(\"Invalid withdrawal amount\")\n",
        "\n",
        "    def get_balance(self):\n",
        "        return self.__balance\n",
        "\n",
        "# Usage\n",
        "account = BankAccount(\"Alice\")\n",
        "account.deposit(100)\n",
        "account.withdraw(50)\n",
        "print(account.get_balance())  # Output: 50\n"
      ],
      "metadata": {
        "colab": {
          "base_uri": "https://localhost:8080/"
        },
        "id": "Ut45mG5sEUXP",
        "outputId": "7146d5f8-8816-4286-d35d-66049ae0c474"
      },
      "execution_count": 2,
      "outputs": [
        {
          "output_type": "stream",
          "name": "stdout",
          "text": [
            "50\n"
          ]
        }
      ]
    },
    {
      "cell_type": "markdown",
      "source": [
        "The abc (Abstract Base Classes) module in Python provides the infrastructure for defining abstract base classes. It allows you to define abstract classes and methods, which can then be inherited by other classes. This enforces a common interface for all subclasses, ensuring that they implement the required methods."
      ],
      "metadata": {
        "id": "hW__qxR7Ebac"
      }
    },
    {
      "cell_type": "code",
      "source": [
        "from abc import ABC, abstractmethod\n",
        "\n",
        "class MyAbstractClass(ABC):\n",
        "    @abstractmethod\n",
        "    def my_method(self):\n",
        "        pass\n"
      ],
      "metadata": {
        "id": "Grmz1n5DEYE-"
      },
      "execution_count": 3,
      "outputs": []
    },
    {
      "cell_type": "markdown",
      "source": [
        "Data abstraction in Python can be achieved using abstract classes and methods, as provided by the abc module. By defining abstract classes with abstract methods, you can create a blueprint for other classes to follow, ensuring that they implement the necessary methods."
      ],
      "metadata": {
        "id": "8ruy3JNFEfT1"
      }
    },
    {
      "cell_type": "code",
      "source": [
        "from abc import ABC, abstractmethod\n",
        "\n",
        "class Shape(ABC):\n",
        "    @abstractmethod\n",
        "    def area(self):\n",
        "        pass\n",
        "\n",
        "class Circle(Shape):\n",
        "    def __init__(self, radius):\n",
        "        self.radius = radius\n",
        "\n",
        "    def area(self):\n",
        "        return 3.14 * self.radius ** 2\n",
        "\n",
        "# Usage\n",
        "circle = Circle(5)\n",
        "print(circle.area())  # Output: 78.5\n"
      ],
      "metadata": {
        "colab": {
          "base_uri": "https://localhost:8080/"
        },
        "id": "fa6yYb3bEcj3",
        "outputId": "2757377e-1f30-49d6-c95e-54d1821c3283"
      },
      "execution_count": 4,
      "outputs": [
        {
          "output_type": "stream",
          "name": "stdout",
          "text": [
            "78.5\n"
          ]
        }
      ]
    },
    {
      "cell_type": "markdown",
      "source": [
        "No, you cannot create an instance of an abstract class in Python. Attempting to do so will raise a TypeError. Abstract classes are meant to be inherited by other classes that implement the abstract methods."
      ],
      "metadata": {
        "id": "XXFRmTttEjzs"
      }
    },
    {
      "cell_type": "code",
      "source": [
        "from abc import ABC, abstractmethod\n",
        "\n",
        "class MyAbstractClass(ABC):\n",
        "    @abstractmethod\n",
        "    def my_method(self):\n",
        "        pass\n",
        "\n",
        "# Uncommenting the following line will raise a TypeError\n",
        "# obj = MyAbstractClass()\n"
      ],
      "metadata": {
        "id": "llTobMNyEhZR"
      },
      "execution_count": 5,
      "outputs": []
    },
    {
      "cell_type": "code",
      "source": [],
      "metadata": {
        "id": "g0uN-GjYEltc"
      },
      "execution_count": null,
      "outputs": []
    }
  ]
}