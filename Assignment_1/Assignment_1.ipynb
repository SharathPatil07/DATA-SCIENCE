{
  "nbformat": 4,
  "nbformat_minor": 0,
  "metadata": {
    "colab": {
      "provenance": []
    },
    "kernelspec": {
      "name": "python3",
      "display_name": "Python 3"
    },
    "language_info": {
      "name": "python"
    }
  },
  "cells": [
    {
      "cell_type": "markdown",
      "source": [
        "1. In Python, the def keyword is used to create a function"
      ],
      "metadata": {
        "id": "sq5rKnHL5zcf"
      }
    },
    {
      "cell_type": "code",
      "execution_count": 4,
      "metadata": {
        "id": "-3Ojhtbn8TCK"
      },
      "outputs": [],
      "source": [
        "def odd():\n",
        "  l2=[]\n",
        "  for i in range (1,26):\n",
        "    if i%2 !=0:\n",
        "      l2.append(i)\n",
        "  return(l2)\n"
      ]
    },
    {
      "cell_type": "code",
      "source": [
        "odd()"
      ],
      "metadata": {
        "colab": {
          "base_uri": "https://localhost:8080/"
        },
        "id": "wgapysAs82Af",
        "outputId": "6def7278-0263-4f08-8d32-aaf7384fa24a"
      },
      "execution_count": 5,
      "outputs": [
        {
          "output_type": "execute_result",
          "data": {
            "text/plain": [
              "[1, 3, 5, 7, 9, 11, 13, 15, 17, 19, 21, 23, 25]"
            ]
          },
          "metadata": {},
          "execution_count": 5
        }
      ]
    },
    {
      "cell_type": "markdown",
      "source": [
        "2. The *args and **kwargs are used in Python functions to allow them to accept a variable number of arguments."
      ],
      "metadata": {
        "id": "i2ZwdJ156Ohg"
      }
    },
    {
      "cell_type": "code",
      "source": [
        "def multiply(*args):\n",
        "    result = 1\n",
        "    for num in args:\n",
        "        result *= num\n",
        "    return result"
      ],
      "metadata": {
        "id": "H_qjano16YO4"
      },
      "execution_count": 1,
      "outputs": []
    },
    {
      "cell_type": "code",
      "source": [
        "multiply(2,3)"
      ],
      "metadata": {
        "colab": {
          "base_uri": "https://localhost:8080/"
        },
        "id": "QKpUD16c6afo",
        "outputId": "2736ca2b-46e5-4d84-9300-a63f013c2f59"
      },
      "execution_count": 2,
      "outputs": [
        {
          "output_type": "execute_result",
          "data": {
            "text/plain": [
              "6"
            ]
          },
          "metadata": {},
          "execution_count": 2
        }
      ]
    },
    {
      "cell_type": "code",
      "source": [
        "def introduce(**kwargs):\n",
        "    for key, value in kwargs.items():\n",
        "        print(f\"{key}: {value}\")"
      ],
      "metadata": {
        "id": "Jf8aUUWG6div"
      },
      "execution_count": 4,
      "outputs": []
    },
    {
      "cell_type": "code",
      "source": [
        "introduce(name=\"Alice\", age=30, city=\"New York\")"
      ],
      "metadata": {
        "colab": {
          "base_uri": "https://localhost:8080/"
        },
        "id": "36ZUw94m6iXc",
        "outputId": "d27ace31-5f36-4f9b-ee2c-a26c78e79545"
      },
      "execution_count": 5,
      "outputs": [
        {
          "output_type": "stream",
          "name": "stdout",
          "text": [
            "name: Alice\n",
            "age: 30\n",
            "city: New York\n"
          ]
        }
      ]
    },
    {
      "cell_type": "markdown",
      "source": [
        "3. In Python, an iterator is an object that enables you to traverse through a collection, like a list or a tuple, one element at a time. Iterators implement the iterator protocol, which consists of the methods iter() and next()."
      ],
      "metadata": {
        "id": "2ewHSt506rEn"
      }
    },
    {
      "cell_type": "code",
      "source": [
        "numbers = [2, 4, 6, 8, 10, 12, 14, 16, 18, 20]\n",
        "iterator = iter(numbers)\n",
        "for _ in range(5):\n",
        "    print(next(iterator))\n"
      ],
      "metadata": {
        "colab": {
          "base_uri": "https://localhost:8080/"
        },
        "id": "4m95hE456mvD",
        "outputId": "09a05a49-ea05-4e24-ac06-dc044d3644d1"
      },
      "execution_count": 6,
      "outputs": [
        {
          "output_type": "stream",
          "name": "stdout",
          "text": [
            "2\n",
            "4\n",
            "6\n",
            "8\n",
            "10\n"
          ]
        }
      ]
    },
    {
      "cell_type": "markdown",
      "source": [
        "4.\n",
        "A generator function in Python is a special type of function that generates a sequence of values one at a time, rather than returning all the values at once. This is useful when working with large datasets, as it allows you to iterate through values without needing to store them all in memory.\n",
        "\n",
        "A generator function is defined like a normal function, but instead of using return to send a result back, it uses the yield keyword."
      ],
      "metadata": {
        "id": "8lgug0ca7PST"
      }
    },
    {
      "cell_type": "code",
      "source": [
        "def even_numbers(limit):\n",
        "    num = 2\n",
        "    while num <= limit:\n",
        "        yield num\n",
        "        num += 2\n",
        "\n",
        "for even in even_numbers(10):\n",
        "    print(even)\n"
      ],
      "metadata": {
        "colab": {
          "base_uri": "https://localhost:8080/"
        },
        "id": "T3niBktw7A_w",
        "outputId": "6d8e5336-373b-4c4e-f754-01a65060283a"
      },
      "execution_count": 7,
      "outputs": [
        {
          "output_type": "stream",
          "name": "stdout",
          "text": [
            "2\n",
            "4\n",
            "6\n",
            "8\n",
            "10\n"
          ]
        }
      ]
    },
    {
      "cell_type": "markdown",
      "source": [
        "5."
      ],
      "metadata": {
        "id": "Z_0bcnmq70bP"
      }
    },
    {
      "cell_type": "code",
      "source": [
        "def prime_numbers():\n",
        "    for num in range(2, 1000):\n",
        "        # Check if num is a prime\n",
        "        is_prime = True\n",
        "        for i in range(2, int(num**0.5) + 1):\n",
        "            if num % i == 0:\n",
        "                is_prime = False\n",
        "                break\n",
        "        if is_prime:\n",
        "            yield num\n",
        "\n",
        "# Create the generator\n",
        "prime_gen = prime_numbers()\n",
        "\n",
        "# Print the first 20 prime numbers\n",
        "for _ in range(20):\n",
        "    print(next(prime_gen))\n"
      ],
      "metadata": {
        "colab": {
          "base_uri": "https://localhost:8080/"
        },
        "id": "heJV8bkC721Q",
        "outputId": "acf47017-5951-4fa4-e507-842b6a53c8de"
      },
      "execution_count": 8,
      "outputs": [
        {
          "output_type": "stream",
          "name": "stdout",
          "text": [
            "2\n",
            "3\n",
            "5\n",
            "7\n",
            "11\n",
            "13\n",
            "17\n",
            "19\n",
            "23\n",
            "29\n",
            "31\n",
            "37\n",
            "41\n",
            "43\n",
            "47\n",
            "53\n",
            "59\n",
            "61\n",
            "67\n",
            "71\n"
          ]
        }
      ]
    },
    {
      "cell_type": "markdown",
      "source": [
        "6."
      ],
      "metadata": {
        "id": "kvBDu3ND8FpV"
      }
    },
    {
      "cell_type": "code",
      "source": [
        "# Initialize the first two Fibonacci numbers\n",
        "a, b = 0, 1\n",
        "count = 0\n",
        "\n",
        "# Set the limit for the number of Fibonacci numbers to print\n",
        "n = 10\n",
        "\n",
        "print(\"The first 10 Fibonacci numbers are:\")\n",
        "\n",
        "while count < n:\n",
        "    print(a)\n",
        "    # Update to the next Fibonacci number\n",
        "    a, b = b, a + b\n",
        "    count += 1\n"
      ],
      "metadata": {
        "colab": {
          "base_uri": "https://localhost:8080/"
        },
        "id": "r7oy45rP76Zp",
        "outputId": "bea6b53c-36b5-476c-f17d-3987529a1f7a"
      },
      "execution_count": 9,
      "outputs": [
        {
          "output_type": "stream",
          "name": "stdout",
          "text": [
            "The first 10 Fibonacci numbers are:\n",
            "0\n",
            "1\n",
            "1\n",
            "2\n",
            "3\n",
            "5\n",
            "8\n",
            "13\n",
            "21\n",
            "34\n"
          ]
        }
      ]
    },
    {
      "cell_type": "markdown",
      "source": [
        "7."
      ],
      "metadata": {
        "id": "5PAn3wJX8dWb"
      }
    },
    {
      "cell_type": "code",
      "source": [
        "string = 'pwskills'\n",
        "unique_chars = [char for index, char in enumerate(string) if char not in string[:index]]\n",
        "print(unique_chars)\n"
      ],
      "metadata": {
        "colab": {
          "base_uri": "https://localhost:8080/"
        },
        "id": "C9zNM7tk8HT9",
        "outputId": "dfd8aa00-002e-4b64-f6d6-bb4afeecba78"
      },
      "execution_count": 10,
      "outputs": [
        {
          "output_type": "stream",
          "name": "stdout",
          "text": [
            "['p', 'w', 's', 'k', 'i', 'l']\n"
          ]
        }
      ]
    },
    {
      "cell_type": "markdown",
      "source": [
        "8."
      ],
      "metadata": {
        "id": "lVjUbk7A8o1p"
      }
    },
    {
      "cell_type": "code",
      "source": [
        "# Get user input\n",
        "number = int(input(\"Enter a number: \"))\n",
        "original_number = number\n",
        "reversed_number = 0\n",
        "\n",
        "# Reverse the number using a while loop\n",
        "while number > 0:\n",
        "    digit = number % 10\n",
        "    reversed_number = reversed_number * 10 + digit\n",
        "    number = number // 10\n",
        "\n",
        "# Check if the original number and reversed number are the same\n",
        "if original_number == reversed_number:\n",
        "    print(f\"{original_number} is a palindrome.\")\n",
        "else:\n",
        "    print(f\"{original_number} is not a palindrome.\")\n",
        "\n"
      ],
      "metadata": {
        "colab": {
          "base_uri": "https://localhost:8080/"
        },
        "id": "eGCSxkhK8PgM",
        "outputId": "bc348ab3-8481-493c-b0c8-5ebfe305c19f"
      },
      "execution_count": 11,
      "outputs": [
        {
          "output_type": "stream",
          "name": "stdout",
          "text": [
            "Enter a number: 55\n",
            "55 is a palindrome.\n"
          ]
        }
      ]
    },
    {
      "cell_type": "markdown",
      "source": [
        "9."
      ],
      "metadata": {
        "id": "g3FfgW_J80Yf"
      }
    },
    {
      "cell_type": "code",
      "source": [
        "odd_numbers = [num for num in range(1, 101) if num % 2 != 0]\n",
        "print(odd_numbers)\n"
      ],
      "metadata": {
        "colab": {
          "base_uri": "https://localhost:8080/"
        },
        "id": "Jz_i06Q_8qPv",
        "outputId": "8bab0618-b954-46b6-fd64-90bbf9633ca9"
      },
      "execution_count": 12,
      "outputs": [
        {
          "output_type": "stream",
          "name": "stdout",
          "text": [
            "[1, 3, 5, 7, 9, 11, 13, 15, 17, 19, 21, 23, 25, 27, 29, 31, 33, 35, 37, 39, 41, 43, 45, 47, 49, 51, 53, 55, 57, 59, 61, 63, 65, 67, 69, 71, 73, 75, 77, 79, 81, 83, 85, 87, 89, 91, 93, 95, 97, 99]\n"
          ]
        }
      ]
    },
    {
      "cell_type": "code",
      "source": [],
      "metadata": {
        "id": "OMSsZk8u8zUA"
      },
      "execution_count": null,
      "outputs": []
    }
  ]
}