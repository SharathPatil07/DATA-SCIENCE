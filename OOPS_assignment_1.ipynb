{
  "nbformat": 4,
  "nbformat_minor": 0,
  "metadata": {
    "colab": {
      "provenance": []
    },
    "kernelspec": {
      "name": "python3",
      "display_name": "Python 3"
    },
    "language_info": {
      "name": "python"
    }
  },
  "cells": [
    {
      "cell_type": "markdown",
      "source": [
        "Class:\n",
        "A class is a user-defined data type that encapsulates data members (attributes) and member functions (methods) to represent a particular entity or concept. It defines the common properties and behaviors that its objects will share.\n",
        "\n",
        "Object:\n",
        "An object is a concrete instance of a class, containing specific values for the attributes defined by the class. Objects interact with one another through methods, enabling modular and reusable code"
      ],
      "metadata": {
        "id": "8sUr7OssC94U"
      }
    },
    {
      "cell_type": "code",
      "execution_count": 1,
      "metadata": {
        "colab": {
          "base_uri": "https://localhost:8080/"
        },
        "id": "tfIX745QC9Nm",
        "outputId": "d9a4d4c5-c485-4380-d6e1-ae34d22bb33e"
      },
      "outputs": [
        {
          "output_type": "stream",
          "name": "stdout",
          "text": [
            "2021 Toyota Corolla\n"
          ]
        }
      ],
      "source": [
        "class Car:\n",
        "    def __init__(self, make, model, year):\n",
        "        self.make = make       # Attribute for the manufacturer\n",
        "        self.model = model     # Attribute for the model name\n",
        "        self.year = year       # Attribute for the manufacturing year\n",
        "\n",
        "    def display_info(self):\n",
        "        print(f\"{self.year} {self.make} {self.model}\")\n",
        "\n",
        "# Creating an object (instance) of the Car class\n",
        "my_car = Car(\"Toyota\", \"Corolla\", 2021)\n",
        "\n",
        "# Accessing the object's method\n",
        "my_car.display_info()  # Output: 2021 Toyota Corolla\n"
      ]
    },
    {
      "cell_type": "markdown",
      "source": [
        "Abstraction: This principle involves simplifying complex reality by modeling classes appropriate to the problem, and working at the most relevant level of inheritance for a given aspect of the problem. It helps in managing complexity by allowing programmers to focus on a manageable subset of the pertinent details.\n",
        "\n",
        "Encapsulation: Encapsulation is the bundling of data and the methods that operate on that data within a single unit, typically a class. It restricts direct access to some of an object's components, which can prevent the accidental modification of data. This is often achieved by making attributes private and providing public getter and setter methods.\n",
        "\n",
        "Inheritance: Inheritance allows a new class, known as a subclass, to acquire the properties and behaviors of an existing class, referred to as a superclass. This promotes code reusability and establishes a natural hierarchy between classes.\n",
        "\n",
        "Polymorphism: Polymorphism enables objects of different classes to be treated as objects of a common superclass. It allows methods to behave differently based on the object's actual class, facilitating flexibility and the integration of new classes without altering existing code."
      ],
      "metadata": {
        "id": "ShflmHNZDPEU"
      }
    },
    {
      "cell_type": "markdown",
      "source": [
        "In Python, the __init__() function is a special method known as the constructor. It is automatically invoked when a new instance of a class is created, allowing the class to initialize the object's attributes and perform any necessary setup"
      ],
      "metadata": {
        "id": "2wt-rOXyDcDE"
      }
    },
    {
      "cell_type": "code",
      "source": [
        "class Person:\n",
        "    def __init__(self, name, age):\n",
        "        self.name = name  # Initialize the 'name' attribute\n",
        "        self.age = age    # Initialize the 'age' attribute\n",
        "\n",
        "    def display_info(self):\n",
        "        print(f\"Name: {self.name}, Age: {self.age}\")\n",
        "\n",
        "# Creating an instance of the Person class\n",
        "person1 = Person(\"Alice\", 30)\n",
        "\n",
        "# Accessing the object's method\n",
        "person1.display_info()  # Output: Name: Alice, Age: 30\n"
      ],
      "metadata": {
        "colab": {
          "base_uri": "https://localhost:8080/"
        },
        "id": "Zi8YyFQdDKP4",
        "outputId": "d74c17de-304b-4702-a5e9-5cd339a7f17d"
      },
      "execution_count": 2,
      "outputs": [
        {
          "output_type": "stream",
          "name": "stdout",
          "text": [
            "Name: Alice, Age: 30\n"
          ]
        }
      ]
    },
    {
      "cell_type": "markdown",
      "source": [
        "In Python's object-oriented programming, the self parameter is a reference to the current instance of the class. It is used to access variables and methods associated with the specific object. By convention, self is the name used for this first parameter in instance methods, though any valid identifier can be used."
      ],
      "metadata": {
        "id": "uDyJTlHUDjPF"
      }
    },
    {
      "cell_type": "code",
      "source": [
        "class Car:\n",
        "    def __init__(self, make, model):\n",
        "        self.make = make  # 'self.make' is an instance variable\n",
        "        self.model = model\n",
        "\n",
        "    def display_info(self):\n",
        "        print(f\"Car make: {self.make}, Model: {self.model}\")\n",
        "\n",
        "# Creating instances of the Car class\n",
        "car1 = Car(\"Toyota\", \"Corolla\")\n",
        "car2 = Car(\"Honda\", \"Civic\")\n",
        "\n",
        "# Accessing methods\n",
        "car1.display_info()  # Output: Car make: Toyota, Model: Corolla\n",
        "car2.display_info()  # Output: Car make: Honda, Model: Civic\n"
      ],
      "metadata": {
        "id": "otwile0rDd2p"
      },
      "execution_count": null,
      "outputs": []
    },
    {
      "cell_type": "markdown",
      "source": [
        "\n",
        "In Object-Oriented Programming (OOP), inheritance is a fundamental concept that allows a new class (known as a subclass or derived class) to acquire the attributes and methods of an existing class (known as a superclass or base class). This mechanism promotes code reusability and establishes a hierarchical relationship between classes."
      ],
      "metadata": {
        "id": "On2fc6N5DqpE"
      }
    },
    {
      "cell_type": "code",
      "source": [
        "class Animal:\n",
        "    def speak(self):\n",
        "        print(\"Animal speaks\")\n",
        "\n",
        "class Mammal(Animal):\n",
        "    def walk(self):\n",
        "        print(\"Mammal walks\")\n",
        "\n",
        "class Dog(Mammal):\n",
        "    def bark(self):\n",
        "        print(\"Dog barks\")\n",
        "\n",
        "# Usage\n",
        "dog = Dog()\n",
        "dog.speak()  # Output: Animal speaks\n",
        "dog.walk()   # Output: Mammal walks\n",
        "dog.bark()   # Output: Dog barks\n"
      ],
      "metadata": {
        "colab": {
          "base_uri": "https://localhost:8080/"
        },
        "id": "sKI4gI-sDt4l",
        "outputId": "b0515c28-75c5-4c12-f079-b1c302bda941"
      },
      "execution_count": 3,
      "outputs": [
        {
          "output_type": "stream",
          "name": "stdout",
          "text": [
            "Animal speaks\n",
            "Mammal walks\n",
            "Dog barks\n"
          ]
        }
      ]
    },
    {
      "cell_type": "code",
      "source": [],
      "metadata": {
        "id": "uyJORZ8gDuiQ"
      },
      "execution_count": null,
      "outputs": []
    }
  ]
}